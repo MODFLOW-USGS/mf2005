{
 "cells": [
  {
   "cell_type": "markdown",
   "metadata": {},
   "source": [
    "## Comparing a new interpolation method for HYDMOD with MOD2SMP\n",
    "`mod2smp` allows for interpolation at the edges of active cells in a MODFLOW grid. However, the previous version of `HYDMOD` (Version 7) returned an error if a cell that is inactive or outside the grid was going to be needed for interpolation. Instead of this, dummy values (based on adjacent active cells) are adopted instead. \n",
    "\n",
    "Results are compared on a synthetic model with `mod2smp`. \n",
    "\n",
    "Important limitations - this only applies to head and drawdown (not subsidence)."
   ]
  },
  {
   "cell_type": "code",
   "execution_count": 1,
   "metadata": {
    "collapsed": true
   },
   "outputs": [],
   "source": [
    "from __future__ import print_function\n",
    "import os\n",
    "import re\n",
    "import numpy as np\n",
    "import pandas as pd\n",
    "import matplotlib.pyplot as plt\n",
    "%matplotlib inline\n",
    "import flopy as fp\n",
    "import flopy.utils as fu\n",
    "import platform\n",
    "if 'window' not in platform.platform().lower():\n",
    "    newln = '\\r\\n'\n",
    "else:\n",
    "    newln = '\\n'"
   ]
  },
  {
   "cell_type": "markdown",
   "metadata": {},
   "source": [
    "## Take an existing PCG verion of the model and, with `flopy` convert to PCG"
   ]
  },
  {
   "cell_type": "code",
   "execution_count": 2,
   "metadata": {
    "collapsed": false
   },
   "outputs": [
    {
     "name": "stdout",
     "output_type": "stream",
     "text": [
      "  ...load method not completed. default nwt file created.\n"
     ]
    }
   ],
   "source": [
    "# convert model to PCG from NWT\n",
    "mod = fp.modflow.Modflow.load('freyberg.nam')\n",
    "mod.name ='freyberg_pcg'\n",
    "upw = mod.get_package('UPW')\n",
    "pcg = fp.modflow.ModflowPcg(mod)\n",
    "lpf = fp.modflow.ModflowLpf(mod,hk=upw.hk, vka=upw.vka, ss=upw.ss, sy = upw.sy)\n",
    "mod.remove_package('UPW')\n",
    "mod.remove_package('NWT')\n",
    "mod.version ='mf2005'\n",
    "bas = mod.get_package('BAS6')\n",
    "bas.hnoflo = -232323\n"
   ]
  },
  {
   "cell_type": "markdown",
   "metadata": {
    "collapsed": false
   },
   "source": [
    "### need a little function to read in the model orientation"
   ]
  },
  {
   "cell_type": "code",
   "execution_count": 3,
   "metadata": {
    "collapsed": false
   },
   "outputs": [],
   "source": [
    "def line_splitter(line):\n",
    "    if ',' in line:\n",
    "        return line.strip().split(',')\n",
    "    else:\n",
    "        return line.strip().split()\n",
    "\n",
    "def grid_spec_reader(infile):\n",
    "    indat = open(infile, 'r').readlines()\n",
    "    # read the top two lines of headers\n",
    "    nrows, ncols = [int(i) for i in line_splitter(indat.pop(0))]\n",
    "    xul, yul, theta =[float(i) for i in line_splitter(indat.pop(0))]\n",
    "    # read the delr and delcol values --- first just into a list, then parse\n",
    "    spacings = list()\n",
    "    for line in indat:\n",
    "        line = [float(i) for i in line_splitter(line)]\n",
    "        if '*' not in line:\n",
    "            spacings.extend(line)\n",
    "        else:\n",
    "            raise('need to handle multiplier types')\n",
    "    delc = np.array(spacings[:nrows])\n",
    "    delr = np.array(spacings[nrows:])\n",
    "    return nrows,ncols,xul,yul,theta,delr,delc"
   ]
  },
  {
   "cell_type": "code",
   "execution_count": 4,
   "metadata": {
    "collapsed": false
   },
   "outputs": [
    {
     "name": "stdout",
     "output_type": "stream",
     "text": [
      "619653.0 3353277.0\n",
      "619653.0 3343277.0\n",
      "5000.0\n",
      "10000.0\n",
      "10000\n"
     ]
    }
   ],
   "source": [
    "# first read in the model.spc file to obtain the model upper left coordinate\n",
    "nrows,ncols,xul,yul,theta,delr,delc = grid_spec_reader('freyberg.spc')\n",
    "\n",
    "# also find xll and yll\n",
    "xll = xul\n",
    "yll = yul - np.sum(delc)\n",
    "print (xul, yul)\n",
    "print (xll,yll)\n",
    "print (np.sum(delr))\n",
    "print (np.sum(delc))\n",
    "print (250*40)"
   ]
  },
  {
   "cell_type": "markdown",
   "metadata": {},
   "source": [
    "## Read in the bore coordinates\n",
    "This ensures that the locations are the same as the values used my mod2smp.\n",
    "\n",
    "Originally, the locations were specified at the centers of all active cells in the model. Added random noise to them to make them offset and force real interpolation to happen."
   ]
  },
  {
   "cell_type": "code",
   "execution_count": 5,
   "metadata": {
    "collapsed": false
   },
   "outputs": [
    {
     "data": {
      "text/html": [
       "<div>\n",
       "<table border=\"1\" class=\"dataframe\">\n",
       "  <thead>\n",
       "    <tr style=\"text-align: right;\">\n",
       "      <th></th>\n",
       "      <th>x</th>\n",
       "      <th>y</th>\n",
       "      <th>lay</th>\n",
       "      <th>x_mod</th>\n",
       "      <th>y_mod</th>\n",
       "    </tr>\n",
       "  </thead>\n",
       "  <tbody>\n",
       "    <tr>\n",
       "      <th>count</th>\n",
       "      <td>705.000000</td>\n",
       "      <td>705.000000</td>\n",
       "      <td>705</td>\n",
       "      <td>705.000000</td>\n",
       "      <td>705.000000</td>\n",
       "    </tr>\n",
       "    <tr>\n",
       "      <th>mean</th>\n",
       "      <td>622277.245390</td>\n",
       "      <td>3348433.075177</td>\n",
       "      <td>1</td>\n",
       "      <td>2624.245390</td>\n",
       "      <td>5156.075177</td>\n",
       "    </tr>\n",
       "    <tr>\n",
       "      <th>std</th>\n",
       "      <td>1422.790456</td>\n",
       "      <td>2851.799570</td>\n",
       "      <td>0</td>\n",
       "      <td>1422.790456</td>\n",
       "      <td>2851.799570</td>\n",
       "    </tr>\n",
       "    <tr>\n",
       "      <th>min</th>\n",
       "      <td>619654.000000</td>\n",
       "      <td>3343280.000000</td>\n",
       "      <td>1</td>\n",
       "      <td>1.000000</td>\n",
       "      <td>3.000000</td>\n",
       "    </tr>\n",
       "    <tr>\n",
       "      <th>25%</th>\n",
       "      <td>621110.000000</td>\n",
       "      <td>3345994.000000</td>\n",
       "      <td>1</td>\n",
       "      <td>1457.000000</td>\n",
       "      <td>2717.000000</td>\n",
       "    </tr>\n",
       "    <tr>\n",
       "      <th>50%</th>\n",
       "      <td>622376.000000</td>\n",
       "      <td>3348293.000000</td>\n",
       "      <td>1</td>\n",
       "      <td>2723.000000</td>\n",
       "      <td>5016.000000</td>\n",
       "    </tr>\n",
       "    <tr>\n",
       "      <th>75%</th>\n",
       "      <td>623482.000000</td>\n",
       "      <td>3351031.000000</td>\n",
       "      <td>1</td>\n",
       "      <td>3829.000000</td>\n",
       "      <td>7754.000000</td>\n",
       "    </tr>\n",
       "    <tr>\n",
       "      <th>max</th>\n",
       "      <td>624639.000000</td>\n",
       "      <td>3353273.000000</td>\n",
       "      <td>1</td>\n",
       "      <td>4986.000000</td>\n",
       "      <td>9996.000000</td>\n",
       "    </tr>\n",
       "  </tbody>\n",
       "</table>\n",
       "</div>"
      ],
      "text/plain": [
       "                   x               y  lay        x_mod        y_mod\n",
       "count     705.000000      705.000000  705   705.000000   705.000000\n",
       "mean   622277.245390  3348433.075177    1  2624.245390  5156.075177\n",
       "std      1422.790456     2851.799570    0  1422.790456  2851.799570\n",
       "min    619654.000000  3343280.000000    1     1.000000     3.000000\n",
       "25%    621110.000000  3345994.000000    1  1457.000000  2717.000000\n",
       "50%    622376.000000  3348293.000000    1  2723.000000  5016.000000\n",
       "75%    623482.000000  3351031.000000    1  3829.000000  7754.000000\n",
       "max    624639.000000  3353273.000000    1  4986.000000  9996.000000"
      ]
     },
     "execution_count": 5,
     "metadata": {},
     "output_type": "execute_result"
    }
   ],
   "source": [
    "# now read in the locations for which output is desired\n",
    "obswells = pd.read_csv('bore.crds', header=None, delim_whitespace=True,names=\n",
    "                       ['obsname','x','y','lay'])\n",
    "obswells['x_mod'] = obswells.x-xll\n",
    "obswells['y_mod'] = obswells.y-yll\n",
    "\n",
    "obswells.describe()"
   ]
  },
  {
   "cell_type": "markdown",
   "metadata": {},
   "source": [
    "## Put HYDMOD into the `flopy` model object and write new model"
   ]
  },
  {
   "cell_type": "code",
   "execution_count": 6,
   "metadata": {
    "collapsed": false
   },
   "outputs": [],
   "source": [
    "# set up HYDMOD in flopy\n",
    "NHYD = len(obswells)\n",
    "IHYDUN = 42\n",
    "HYDNOH = -9999999\n",
    "PCKG = 'BAS'\n",
    "ARR = 'HD'\n",
    "hydinfo = []\n",
    "for crec in obswells.iterrows():\n",
    "    r,c = [int(i)+1 for i in re.findall('\\d+', crec[1].obsname)]\n",
    "    INTYP = 'H'\n",
    "    hydinfo.append([PCKG, ARR, INTYP, crec[1].lay, crec[1].x-xll, crec[1].y-yll, crec[1].obsname])\n",
    "hyd = fp.modflow.ModflowHyd(mod, nhyd=NHYD, ihydun=IHYDUN, hydnoh=HYDNOH, obsdata=hydinfo)\n",
    "mod.write_input()"
   ]
  },
  {
   "cell_type": "markdown",
   "metadata": {
    "collapsed": false
   },
   "source": [
    "# Now compare HYDMOD output with `mod2smp`"
   ]
  },
  {
   "cell_type": "markdown",
   "metadata": {},
   "source": [
    "### first read in the mod2smp output and create a time index"
   ]
  },
  {
   "cell_type": "code",
   "execution_count": 7,
   "metadata": {
    "collapsed": false
   },
   "outputs": [
    {
     "data": {
      "text/html": [
       "<div>\n",
       "<table border=\"1\" class=\"dataframe\">\n",
       "  <thead>\n",
       "    <tr style=\"text-align: right;\">\n",
       "      <th></th>\n",
       "      <th>location</th>\n",
       "      <th>date</th>\n",
       "      <th>time</th>\n",
       "      <th>head</th>\n",
       "    </tr>\n",
       "  </thead>\n",
       "  <tbody>\n",
       "    <tr>\n",
       "      <th>0</th>\n",
       "      <td>OR00C00</td>\n",
       "      <td>02/01/2015</td>\n",
       "      <td>00:00:00</td>\n",
       "      <td>23.12988</td>\n",
       "    </tr>\n",
       "    <tr>\n",
       "      <th>1</th>\n",
       "      <td>OR00C00</td>\n",
       "      <td>01/01/2020</td>\n",
       "      <td>00:00:00</td>\n",
       "      <td>20.58575</td>\n",
       "    </tr>\n",
       "    <tr>\n",
       "      <th>2</th>\n",
       "      <td>OR00C00</td>\n",
       "      <td>02/01/2020</td>\n",
       "      <td>00:00:00</td>\n",
       "      <td>20.57530</td>\n",
       "    </tr>\n",
       "    <tr>\n",
       "      <th>3</th>\n",
       "      <td>OR00C01</td>\n",
       "      <td>02/01/2015</td>\n",
       "      <td>00:00:00</td>\n",
       "      <td>23.11162</td>\n",
       "    </tr>\n",
       "    <tr>\n",
       "      <th>4</th>\n",
       "      <td>OR00C01</td>\n",
       "      <td>01/01/2020</td>\n",
       "      <td>00:00:00</td>\n",
       "      <td>20.57784</td>\n",
       "    </tr>\n",
       "  </tbody>\n",
       "</table>\n",
       "</div>"
      ],
      "text/plain": [
       "  location        date      time      head\n",
       "0  OR00C00  02/01/2015  00:00:00  23.12988\n",
       "1  OR00C00  01/01/2020  00:00:00  20.58575\n",
       "2  OR00C00  02/01/2020  00:00:00  20.57530\n",
       "3  OR00C01  02/01/2015  00:00:00  23.11162\n",
       "4  OR00C01  01/01/2020  00:00:00  20.57784"
      ]
     },
     "execution_count": 7,
     "metadata": {},
     "output_type": "execute_result"
    }
   ],
   "source": [
    "# READ IN THE MOD2SMP OUTPUT\n",
    "mod2obs = pd.read_csv('freyberg_heads.smp', delim_whitespace=True, \n",
    "                      names=['location','date','time','head'])\n",
    "mod2obs.head()"
   ]
  },
  {
   "cell_type": "code",
   "execution_count": 8,
   "metadata": {
    "collapsed": false
   },
   "outputs": [
    {
     "data": {
      "text/plain": [
       "array(['02/01/2015', '01/01/2020', '02/01/2020'], dtype=object)"
      ]
     },
     "execution_count": 8,
     "metadata": {},
     "output_type": "execute_result"
    }
   ],
   "source": [
    "# find the unique times\n",
    "dates = mod2obs.date.unique()\n",
    "dates"
   ]
  },
  {
   "cell_type": "code",
   "execution_count": 9,
   "metadata": {
    "collapsed": false
   },
   "outputs": [],
   "source": [
    "# set up a sequential number to make it easier to compare with HYDMOD output\n",
    "for i,cdate in enumerate(dates):\n",
    "    mod2obs.loc[mod2obs.date==cdate,'timeind'] = str(i+1)\n",
    "mod2obs['date_loc'] = mod2obs[['location','timeind']].apply(lambda x: '_'.join(x), axis=1)"
   ]
  },
  {
   "cell_type": "code",
   "execution_count": 10,
   "metadata": {
    "collapsed": false
   },
   "outputs": [],
   "source": [
    "results_end = mod2obs.loc[mod2obs['timeind']=='3']"
   ]
  },
  {
   "cell_type": "code",
   "execution_count": 11,
   "metadata": {
    "collapsed": false
   },
   "outputs": [
    {
     "data": {
      "text/html": [
       "<div>\n",
       "<table border=\"1\" class=\"dataframe\">\n",
       "  <thead>\n",
       "    <tr style=\"text-align: right;\">\n",
       "      <th></th>\n",
       "      <th>location</th>\n",
       "      <th>date</th>\n",
       "      <th>time</th>\n",
       "      <th>head</th>\n",
       "      <th>timeind</th>\n",
       "      <th>date_loc</th>\n",
       "    </tr>\n",
       "  </thead>\n",
       "  <tbody>\n",
       "    <tr>\n",
       "      <th>2</th>\n",
       "      <td>OR00C00</td>\n",
       "      <td>02/01/2020</td>\n",
       "      <td>00:00:00</td>\n",
       "      <td>20.57530</td>\n",
       "      <td>3</td>\n",
       "      <td>OR00C00_3</td>\n",
       "    </tr>\n",
       "    <tr>\n",
       "      <th>5</th>\n",
       "      <td>OR00C01</td>\n",
       "      <td>02/01/2020</td>\n",
       "      <td>00:00:00</td>\n",
       "      <td>20.56743</td>\n",
       "      <td>3</td>\n",
       "      <td>OR00C01_3</td>\n",
       "    </tr>\n",
       "    <tr>\n",
       "      <th>8</th>\n",
       "      <td>OR00C02</td>\n",
       "      <td>02/01/2020</td>\n",
       "      <td>00:00:00</td>\n",
       "      <td>20.50915</td>\n",
       "      <td>3</td>\n",
       "      <td>OR00C02_3</td>\n",
       "    </tr>\n",
       "    <tr>\n",
       "      <th>11</th>\n",
       "      <td>OR00C03</td>\n",
       "      <td>02/01/2020</td>\n",
       "      <td>00:00:00</td>\n",
       "      <td>20.48402</td>\n",
       "      <td>3</td>\n",
       "      <td>OR00C03_3</td>\n",
       "    </tr>\n",
       "    <tr>\n",
       "      <th>14</th>\n",
       "      <td>OR00C04</td>\n",
       "      <td>02/01/2020</td>\n",
       "      <td>00:00:00</td>\n",
       "      <td>20.35657</td>\n",
       "      <td>3</td>\n",
       "      <td>OR00C04_3</td>\n",
       "    </tr>\n",
       "  </tbody>\n",
       "</table>\n",
       "</div>"
      ],
      "text/plain": [
       "   location        date      time      head timeind   date_loc\n",
       "2   OR00C00  02/01/2020  00:00:00  20.57530       3  OR00C00_3\n",
       "5   OR00C01  02/01/2020  00:00:00  20.56743       3  OR00C01_3\n",
       "8   OR00C02  02/01/2020  00:00:00  20.50915       3  OR00C02_3\n",
       "11  OR00C03  02/01/2020  00:00:00  20.48402       3  OR00C03_3\n",
       "14  OR00C04  02/01/2020  00:00:00  20.35657       3  OR00C04_3"
      ]
     },
     "execution_count": 11,
     "metadata": {},
     "output_type": "execute_result"
    }
   ],
   "source": [
    "# take a look at the dataframe making sure it looks OK\n",
    "results_end.head()"
   ]
  },
  {
   "cell_type": "markdown",
   "metadata": {},
   "source": [
    "### Now read in the HYDMOD output"
   ]
  },
  {
   "cell_type": "code",
   "execution_count": 12,
   "metadata": {
    "collapsed": false
   },
   "outputs": [],
   "source": [
    "obsresults = fu.HydmodObs('freyberg_pcg.hyd.bin')"
   ]
  },
  {
   "cell_type": "markdown",
   "metadata": {},
   "source": [
    "Get rid of the extra label prepended onto our labels by HYDMOD"
   ]
  },
  {
   "cell_type": "code",
   "execution_count": 13,
   "metadata": {
    "collapsed": false
   },
   "outputs": [],
   "source": [
    "labels = [i.upper().replace('HDC001','') for i in obsresults.get_hyd_labels()]\n",
    "labels = [i.replace('HDI001','') for i in labels]\n",
    "labels = [i.replace('HDH001','') for i in labels]\n",
    "\n",
    "values = obsresults.get_values(-1)[1]"
   ]
  },
  {
   "cell_type": "code",
   "execution_count": 14,
   "metadata": {
    "collapsed": false
   },
   "outputs": [
    {
     "data": {
      "text/html": [
       "<div>\n",
       "<table border=\"1\" class=\"dataframe\">\n",
       "  <thead>\n",
       "    <tr style=\"text-align: right;\">\n",
       "      <th></th>\n",
       "      <th>label</th>\n",
       "      <th>values</th>\n",
       "    </tr>\n",
       "  </thead>\n",
       "  <tbody>\n",
       "    <tr>\n",
       "      <th>0</th>\n",
       "      <td>OR00C00</td>\n",
       "      <td>20.575298</td>\n",
       "    </tr>\n",
       "    <tr>\n",
       "      <th>1</th>\n",
       "      <td>OR00C01</td>\n",
       "      <td>20.567429</td>\n",
       "    </tr>\n",
       "    <tr>\n",
       "      <th>2</th>\n",
       "      <td>OR00C02</td>\n",
       "      <td>20.509150</td>\n",
       "    </tr>\n",
       "    <tr>\n",
       "      <th>3</th>\n",
       "      <td>OR00C03</td>\n",
       "      <td>20.484016</td>\n",
       "    </tr>\n",
       "    <tr>\n",
       "      <th>4</th>\n",
       "      <td>OR00C04</td>\n",
       "      <td>20.356564</td>\n",
       "    </tr>\n",
       "  </tbody>\n",
       "</table>\n",
       "</div>"
      ],
      "text/plain": [
       "     label     values\n",
       "0  OR00C00  20.575298\n",
       "1  OR00C01  20.567429\n",
       "2  OR00C02  20.509150\n",
       "3  OR00C03  20.484016\n",
       "4  OR00C04  20.356564"
      ]
     },
     "execution_count": 14,
     "metadata": {},
     "output_type": "execute_result"
    }
   ],
   "source": [
    "# make a dataframe\n",
    "hydmod_df = pd.DataFrame(data={'label':labels,'values':values})\n",
    "hydmod_df.head()"
   ]
  },
  {
   "cell_type": "markdown",
   "metadata": {},
   "source": [
    "### merge the results into the mod2smp dataframe"
   ]
  },
  {
   "cell_type": "code",
   "execution_count": 15,
   "metadata": {
    "collapsed": false
   },
   "outputs": [],
   "source": [
    "results_end = results_end.merge(hydmod_df,left_on='location', right_on='label')"
   ]
  },
  {
   "cell_type": "code",
   "execution_count": 16,
   "metadata": {
    "collapsed": false
   },
   "outputs": [],
   "source": [
    "results_end.rename(columns={'values':'hydmod','head':'mod2smp'}, inplace=True)"
   ]
  },
  {
   "cell_type": "code",
   "execution_count": 17,
   "metadata": {
    "collapsed": false
   },
   "outputs": [],
   "source": [
    "row,col = [],[]\n",
    "for cn in results_end.location.tolist():\n",
    "    r,c = [int(i) for i in re.findall('\\d+', cn)]\n",
    "    row.append(r), col.append(c)"
   ]
  },
  {
   "cell_type": "code",
   "execution_count": 18,
   "metadata": {
    "collapsed": false
   },
   "outputs": [],
   "source": [
    "results_end['row'] = row\n",
    "results_end['col'] = col\n",
    "nrow = np.max(row)+1\n",
    "ncol = np.max(col)+1"
   ]
  },
  {
   "cell_type": "markdown",
   "metadata": {},
   "source": [
    "Make matrices of the interpolated heads as read in. Note that values where a noflow value was interpolated in modssmp  are maskedout with NaN for now. HYDMOD in the new form won't allow that result to happen"
   ]
  },
  {
   "cell_type": "code",
   "execution_count": 19,
   "metadata": {
    "collapsed": false
   },
   "outputs": [],
   "source": [
    "hydmodheads = np.ones((nrow,ncol))*np.nan\n",
    "mod2smpheads = np.ones((nrow,ncol))*np.nan\n",
    "hydmodheads[results_end.row.as_matrix(),results_end.col.as_matrix()] = results_end.hydmod.as_matrix()\n",
    "mod2smpheads[results_end.row.as_matrix(),results_end.col.as_matrix()] = results_end.mod2smp.as_matrix()\n",
    "\n",
    "hydmodheads[hydmodheads<0] = np.nan\n",
    "mod2smpheads[mod2smpheads<0]=np.nan\n"
   ]
  },
  {
   "cell_type": "markdown",
   "metadata": {},
   "source": [
    "### Plot up comparisons"
   ]
  },
  {
   "cell_type": "code",
   "execution_count": 20,
   "metadata": {
    "collapsed": false
   },
   "outputs": [
    {
     "data": {
      "text/plain": [
       "<matplotlib.colorbar.Colorbar at 0x10ba2f9e8>"
      ]
     },
     "execution_count": 20,
     "metadata": {},
     "output_type": "execute_result"
    },
    {
     "data": {
      "image/png": "[encoded data removed]",
      "text/plain": [
       "<matplotlib.figure.Figure at 0x10b6a90b8>"
      ]
     },
     "metadata": {},
     "output_type": "display_data"
    }
   ],
   "source": [
    "vmin, vmax = np.nanmin(mod2smpheads), np.nanmax(mod2smpheads)\n",
    "plt.figure(figsize=(16,10))\n",
    "plt.subplot(121)\n",
    "plt.imshow(hydmodheads, interpolation='nearest', vmin = vmin, vmax=vmax)\n",
    "#plt.imshow(hydmodheads, interpolation='nearest')\n",
    "plt.colorbar()\n",
    "plt.title('HYDMOD-->new')\n",
    "plt.subplot(122)\n",
    "plt.imshow(mod2smpheads, interpolation='nearest', vmin = vmin, vmax=vmax)\n",
    "plt.title('MOD2SMP')\n",
    "plt.colorbar()"
   ]
  },
  {
   "cell_type": "markdown",
   "metadata": {},
   "source": [
    "### and plot the differences"
   ]
  },
  {
   "cell_type": "code",
   "execution_count": 21,
   "metadata": {
    "collapsed": false
   },
   "outputs": [
    {
     "data": {
      "text/plain": [
       "<matplotlib.colorbar.Colorbar at 0x10c64c358>"
      ]
     },
     "execution_count": 21,
     "metadata": {},
     "output_type": "execute_result"
    },
    {
     "data": {
      "image/png": "[encoded data removed]",
      "text/plain": [
       "<matplotlib.figure.Figure at 0x10b698d30>"
      ]
     },
     "metadata": {},
     "output_type": "display_data"
    }
   ],
   "source": [
    "plt.figure(figsize=(16,10))\n",
    "plt.subplot(121)\n",
    "plt.imshow(hydmodheads-mod2smpheads, interpolation='nearest')\n",
    "plt.colorbar()\n",
    "plt.subplot(122)\n",
    "diffs = hydmodheads-mod2smpheads\n",
    "diffs[np.abs(diffs)<1e-2] = np.nan\n",
    "plt.imshow(diffs, interpolation='nearest')\n",
    "plt.colorbar()\n"
   ]
  },
  {
   "cell_type": "markdown",
   "metadata": {},
   "source": [
    "### plot differences as a percentage of mod2smp values"
   ]
  },
  {
   "cell_type": "code",
   "execution_count": 22,
   "metadata": {
    "collapsed": false
   },
   "outputs": [
    {
     "data": {
      "text/plain": [
       "<matplotlib.text.Text at 0x10ccb85f8>"
      ]
     },
     "execution_count": 22,
     "metadata": {},
     "output_type": "execute_result"
    },
    {
     "data": {
      "image/png": "[encoded data removed]",
      "text/plain": [
       "<matplotlib.figure.Figure at 0x10c668978>"
      ]
     },
     "metadata": {},
     "output_type": "display_data"
    }
   ],
   "source": [
    "plt.figure(figsize=(16,10))\n",
    "plt.subplot(121)\n",
    "diffs = [np.abs(hydmodheads-mod2smpheads)]/mod2smpheads * 100.\n",
    "\n",
    "plt.imshow(diffs[0,:,:], interpolation='nearest')\n",
    "plt.colorbar()\n",
    "plt.title('Differences as a percentage of mod2smp')\n",
    "plt.subplot(122)\n",
    "diffs[diffs<0.01] = np.nan\n",
    "plt.imshow(diffs[0,:,:], interpolation='nearest')\n",
    "plt.colorbar()\n",
    "plt.title('Differences only greater than 0.01%')\n"
   ]
  },
  {
   "cell_type": "code",
   "execution_count": 23,
   "metadata": {
    "collapsed": false
   },
   "outputs": [
    {
     "data": {
      "text/plain": [
       "(1, 40, 20)"
      ]
     },
     "execution_count": 23,
     "metadata": {},
     "output_type": "execute_result"
    }
   ],
   "source": [
    "diffs.shape"
   ]
  },
  {
   "cell_type": "code",
   "execution_count": 24,
   "metadata": {
    "collapsed": false
   },
   "outputs": [
    {
     "data": {
      "text/html": [
       "<div>\n",
       "<table border=\"1\" class=\"dataframe\">\n",
       "  <thead>\n",
       "    <tr style=\"text-align: right;\">\n",
       "      <th></th>\n",
       "      <th>location</th>\n",
       "      <th>date</th>\n",
       "      <th>time</th>\n",
       "      <th>mod2smp</th>\n",
       "      <th>timeind</th>\n",
       "      <th>date_loc</th>\n",
       "      <th>label</th>\n",
       "      <th>hydmod</th>\n",
       "      <th>row</th>\n",
       "      <th>col</th>\n",
       "    </tr>\n",
       "  </thead>\n",
       "  <tbody>\n",
       "    <tr>\n",
       "      <th>0</th>\n",
       "      <td>OR00C00</td>\n",
       "      <td>02/01/2020</td>\n",
       "      <td>00:00:00</td>\n",
       "      <td>20.57530</td>\n",
       "      <td>3</td>\n",
       "      <td>OR00C00_3</td>\n",
       "      <td>OR00C00</td>\n",
       "      <td>20.575298</td>\n",
       "      <td>0</td>\n",
       "      <td>0</td>\n",
       "    </tr>\n",
       "    <tr>\n",
       "      <th>20</th>\n",
       "      <td>OR01C00</td>\n",
       "      <td>02/01/2020</td>\n",
       "      <td>00:00:00</td>\n",
       "      <td>20.57645</td>\n",
       "      <td>3</td>\n",
       "      <td>OR01C00_3</td>\n",
       "      <td>OR01C00</td>\n",
       "      <td>20.576889</td>\n",
       "      <td>1</td>\n",
       "      <td>0</td>\n",
       "    </tr>\n",
       "    <tr>\n",
       "      <th>40</th>\n",
       "      <td>OR02C00</td>\n",
       "      <td>02/01/2020</td>\n",
       "      <td>00:00:00</td>\n",
       "      <td>20.56732</td>\n",
       "      <td>3</td>\n",
       "      <td>OR02C00_3</td>\n",
       "      <td>OR02C00</td>\n",
       "      <td>20.567322</td>\n",
       "      <td>2</td>\n",
       "      <td>0</td>\n",
       "    </tr>\n",
       "    <tr>\n",
       "      <th>60</th>\n",
       "      <td>OR03C00</td>\n",
       "      <td>02/01/2020</td>\n",
       "      <td>00:00:00</td>\n",
       "      <td>20.56260</td>\n",
       "      <td>3</td>\n",
       "      <td>OR03C00_3</td>\n",
       "      <td>OR03C00</td>\n",
       "      <td>20.562603</td>\n",
       "      <td>3</td>\n",
       "      <td>0</td>\n",
       "    </tr>\n",
       "    <tr>\n",
       "      <th>80</th>\n",
       "      <td>OR04C00</td>\n",
       "      <td>02/01/2020</td>\n",
       "      <td>00:00:00</td>\n",
       "      <td>20.55502</td>\n",
       "      <td>3</td>\n",
       "      <td>OR04C00_3</td>\n",
       "      <td>OR04C00</td>\n",
       "      <td>20.555019</td>\n",
       "      <td>4</td>\n",
       "      <td>0</td>\n",
       "    </tr>\n",
       "    <tr>\n",
       "      <th>100</th>\n",
       "      <td>OR05C00</td>\n",
       "      <td>02/01/2020</td>\n",
       "      <td>00:00:00</td>\n",
       "      <td>20.54301</td>\n",
       "      <td>3</td>\n",
       "      <td>OR05C00_3</td>\n",
       "      <td>OR05C00</td>\n",
       "      <td>20.554264</td>\n",
       "      <td>5</td>\n",
       "      <td>0</td>\n",
       "    </tr>\n",
       "    <tr>\n",
       "      <th>120</th>\n",
       "      <td>OR06C00</td>\n",
       "      <td>02/01/2020</td>\n",
       "      <td>00:00:00</td>\n",
       "      <td>20.51411</td>\n",
       "      <td>3</td>\n",
       "      <td>OR06C00_3</td>\n",
       "      <td>OR06C00</td>\n",
       "      <td>20.515774</td>\n",
       "      <td>6</td>\n",
       "      <td>0</td>\n",
       "    </tr>\n",
       "    <tr>\n",
       "      <th>140</th>\n",
       "      <td>OR07C00</td>\n",
       "      <td>02/01/2020</td>\n",
       "      <td>00:00:00</td>\n",
       "      <td>20.48340</td>\n",
       "      <td>3</td>\n",
       "      <td>OR07C00_3</td>\n",
       "      <td>OR07C00</td>\n",
       "      <td>20.483398</td>\n",
       "      <td>7</td>\n",
       "      <td>0</td>\n",
       "    </tr>\n",
       "    <tr>\n",
       "      <th>160</th>\n",
       "      <td>OR08C00</td>\n",
       "      <td>02/01/2020</td>\n",
       "      <td>00:00:00</td>\n",
       "      <td>20.47131</td>\n",
       "      <td>3</td>\n",
       "      <td>OR08C00_3</td>\n",
       "      <td>OR08C00</td>\n",
       "      <td>20.475674</td>\n",
       "      <td>8</td>\n",
       "      <td>0</td>\n",
       "    </tr>\n",
       "    <tr>\n",
       "      <th>177</th>\n",
       "      <td>OR09C00</td>\n",
       "      <td>02/01/2020</td>\n",
       "      <td>00:00:00</td>\n",
       "      <td>20.41819</td>\n",
       "      <td>3</td>\n",
       "      <td>OR09C00_3</td>\n",
       "      <td>OR09C00</td>\n",
       "      <td>20.419765</td>\n",
       "      <td>9</td>\n",
       "      <td>0</td>\n",
       "    </tr>\n",
       "    <tr>\n",
       "      <th>193</th>\n",
       "      <td>OR10C00</td>\n",
       "      <td>02/01/2020</td>\n",
       "      <td>00:00:00</td>\n",
       "      <td>20.31734</td>\n",
       "      <td>3</td>\n",
       "      <td>OR10C00_3</td>\n",
       "      <td>OR10C00</td>\n",
       "      <td>20.317341</td>\n",
       "      <td>10</td>\n",
       "      <td>0</td>\n",
       "    </tr>\n",
       "    <tr>\n",
       "      <th>209</th>\n",
       "      <td>OR11C00</td>\n",
       "      <td>02/01/2020</td>\n",
       "      <td>00:00:00</td>\n",
       "      <td>20.26681</td>\n",
       "      <td>3</td>\n",
       "      <td>OR11C00_3</td>\n",
       "      <td>OR11C00</td>\n",
       "      <td>20.266806</td>\n",
       "      <td>11</td>\n",
       "      <td>0</td>\n",
       "    </tr>\n",
       "    <tr>\n",
       "      <th>225</th>\n",
       "      <td>OR12C00</td>\n",
       "      <td>02/01/2020</td>\n",
       "      <td>00:00:00</td>\n",
       "      <td>20.14354</td>\n",
       "      <td>3</td>\n",
       "      <td>OR12C00_3</td>\n",
       "      <td>OR12C00</td>\n",
       "      <td>20.143534</td>\n",
       "      <td>12</td>\n",
       "      <td>0</td>\n",
       "    </tr>\n",
       "    <tr>\n",
       "      <th>241</th>\n",
       "      <td>OR13C00</td>\n",
       "      <td>02/01/2020</td>\n",
       "      <td>00:00:00</td>\n",
       "      <td>20.04744</td>\n",
       "      <td>3</td>\n",
       "      <td>OR13C00_3</td>\n",
       "      <td>OR13C00</td>\n",
       "      <td>20.047440</td>\n",
       "      <td>13</td>\n",
       "      <td>0</td>\n",
       "    </tr>\n",
       "    <tr>\n",
       "      <th>257</th>\n",
       "      <td>OR14C00</td>\n",
       "      <td>02/01/2020</td>\n",
       "      <td>00:00:00</td>\n",
       "      <td>19.88962</td>\n",
       "      <td>3</td>\n",
       "      <td>OR14C00_3</td>\n",
       "      <td>OR14C00</td>\n",
       "      <td>19.890276</td>\n",
       "      <td>14</td>\n",
       "      <td>0</td>\n",
       "    </tr>\n",
       "    <tr>\n",
       "      <th>273</th>\n",
       "      <td>OR15C00</td>\n",
       "      <td>02/01/2020</td>\n",
       "      <td>00:00:00</td>\n",
       "      <td>19.83080</td>\n",
       "      <td>3</td>\n",
       "      <td>OR15C00_3</td>\n",
       "      <td>OR15C00</td>\n",
       "      <td>19.832573</td>\n",
       "      <td>15</td>\n",
       "      <td>0</td>\n",
       "    </tr>\n",
       "    <tr>\n",
       "      <th>289</th>\n",
       "      <td>OR16C00</td>\n",
       "      <td>02/01/2020</td>\n",
       "      <td>00:00:00</td>\n",
       "      <td>19.51087</td>\n",
       "      <td>3</td>\n",
       "      <td>OR16C00_3</td>\n",
       "      <td>OR16C00</td>\n",
       "      <td>19.510866</td>\n",
       "      <td>16</td>\n",
       "      <td>0</td>\n",
       "    </tr>\n",
       "    <tr>\n",
       "      <th>305</th>\n",
       "      <td>OR17C00</td>\n",
       "      <td>02/01/2020</td>\n",
       "      <td>00:00:00</td>\n",
       "      <td>19.44520</td>\n",
       "      <td>3</td>\n",
       "      <td>OR17C00_3</td>\n",
       "      <td>OR17C00</td>\n",
       "      <td>19.445202</td>\n",
       "      <td>17</td>\n",
       "      <td>0</td>\n",
       "    </tr>\n",
       "    <tr>\n",
       "      <th>321</th>\n",
       "      <td>OR18C00</td>\n",
       "      <td>02/01/2020</td>\n",
       "      <td>00:00:00</td>\n",
       "      <td>19.18322</td>\n",
       "      <td>3</td>\n",
       "      <td>OR18C00_3</td>\n",
       "      <td>OR18C00</td>\n",
       "      <td>19.183218</td>\n",
       "      <td>18</td>\n",
       "      <td>0</td>\n",
       "    </tr>\n",
       "    <tr>\n",
       "      <th>337</th>\n",
       "      <td>OR19C00</td>\n",
       "      <td>02/01/2020</td>\n",
       "      <td>00:00:00</td>\n",
       "      <td>19.00609</td>\n",
       "      <td>3</td>\n",
       "      <td>OR19C00_3</td>\n",
       "      <td>OR19C00</td>\n",
       "      <td>19.006090</td>\n",
       "      <td>19</td>\n",
       "      <td>0</td>\n",
       "    </tr>\n",
       "    <tr>\n",
       "      <th>353</th>\n",
       "      <td>OR20C00</td>\n",
       "      <td>02/01/2020</td>\n",
       "      <td>00:00:00</td>\n",
       "      <td>18.64923</td>\n",
       "      <td>3</td>\n",
       "      <td>OR20C00_3</td>\n",
       "      <td>OR20C00</td>\n",
       "      <td>18.655003</td>\n",
       "      <td>20</td>\n",
       "      <td>0</td>\n",
       "    </tr>\n",
       "    <tr>\n",
       "      <th>369</th>\n",
       "      <td>OR21C00</td>\n",
       "      <td>02/01/2020</td>\n",
       "      <td>00:00:00</td>\n",
       "      <td>18.44578</td>\n",
       "      <td>3</td>\n",
       "      <td>OR21C00_3</td>\n",
       "      <td>OR21C00</td>\n",
       "      <td>18.445784</td>\n",
       "      <td>21</td>\n",
       "      <td>0</td>\n",
       "    </tr>\n",
       "    <tr>\n",
       "      <th>387</th>\n",
       "      <td>OR22C00</td>\n",
       "      <td>02/01/2020</td>\n",
       "      <td>00:00:00</td>\n",
       "      <td>18.34194</td>\n",
       "      <td>3</td>\n",
       "      <td>OR22C00_3</td>\n",
       "      <td>OR22C00</td>\n",
       "      <td>18.357561</td>\n",
       "      <td>22</td>\n",
       "      <td>0</td>\n",
       "    </tr>\n",
       "    <tr>\n",
       "      <th>406</th>\n",
       "      <td>OR23C00</td>\n",
       "      <td>02/01/2020</td>\n",
       "      <td>00:00:00</td>\n",
       "      <td>18.07260</td>\n",
       "      <td>3</td>\n",
       "      <td>OR23C00_3</td>\n",
       "      <td>OR23C00</td>\n",
       "      <td>18.093719</td>\n",
       "      <td>23</td>\n",
       "      <td>0</td>\n",
       "    </tr>\n",
       "    <tr>\n",
       "      <th>426</th>\n",
       "      <td>OR24C00</td>\n",
       "      <td>02/01/2020</td>\n",
       "      <td>00:00:00</td>\n",
       "      <td>17.88280</td>\n",
       "      <td>3</td>\n",
       "      <td>OR24C00_3</td>\n",
       "      <td>OR24C00</td>\n",
       "      <td>17.882799</td>\n",
       "      <td>24</td>\n",
       "      <td>0</td>\n",
       "    </tr>\n",
       "    <tr>\n",
       "      <th>446</th>\n",
       "      <td>OR25C00</td>\n",
       "      <td>02/01/2020</td>\n",
       "      <td>00:00:00</td>\n",
       "      <td>17.69594</td>\n",
       "      <td>3</td>\n",
       "      <td>OR25C00_3</td>\n",
       "      <td>OR25C00</td>\n",
       "      <td>17.695942</td>\n",
       "      <td>25</td>\n",
       "      <td>0</td>\n",
       "    </tr>\n",
       "    <tr>\n",
       "      <th>466</th>\n",
       "      <td>OR26C00</td>\n",
       "      <td>02/01/2020</td>\n",
       "      <td>00:00:00</td>\n",
       "      <td>17.57656</td>\n",
       "      <td>3</td>\n",
       "      <td>OR26C00_3</td>\n",
       "      <td>OR26C00</td>\n",
       "      <td>17.576567</td>\n",
       "      <td>26</td>\n",
       "      <td>0</td>\n",
       "    </tr>\n",
       "    <tr>\n",
       "      <th>486</th>\n",
       "      <td>OR27C00</td>\n",
       "      <td>02/01/2020</td>\n",
       "      <td>00:00:00</td>\n",
       "      <td>17.38921</td>\n",
       "      <td>3</td>\n",
       "      <td>OR27C00_3</td>\n",
       "      <td>OR27C00</td>\n",
       "      <td>17.389208</td>\n",
       "      <td>27</td>\n",
       "      <td>0</td>\n",
       "    </tr>\n",
       "    <tr>\n",
       "      <th>506</th>\n",
       "      <td>OR28C00</td>\n",
       "      <td>02/01/2020</td>\n",
       "      <td>00:00:00</td>\n",
       "      <td>17.30044</td>\n",
       "      <td>3</td>\n",
       "      <td>OR28C00_3</td>\n",
       "      <td>OR28C00</td>\n",
       "      <td>17.314356</td>\n",
       "      <td>28</td>\n",
       "      <td>0</td>\n",
       "    </tr>\n",
       "    <tr>\n",
       "      <th>526</th>\n",
       "      <td>OR29C00</td>\n",
       "      <td>02/01/2020</td>\n",
       "      <td>00:00:00</td>\n",
       "      <td>17.21479</td>\n",
       "      <td>3</td>\n",
       "      <td>OR29C00_3</td>\n",
       "      <td>OR29C00</td>\n",
       "      <td>17.220739</td>\n",
       "      <td>29</td>\n",
       "      <td>0</td>\n",
       "    </tr>\n",
       "    <tr>\n",
       "      <th>546</th>\n",
       "      <td>OR30C00</td>\n",
       "      <td>02/01/2020</td>\n",
       "      <td>00:00:00</td>\n",
       "      <td>17.13497</td>\n",
       "      <td>3</td>\n",
       "      <td>OR30C00_3</td>\n",
       "      <td>OR30C00</td>\n",
       "      <td>17.154524</td>\n",
       "      <td>30</td>\n",
       "      <td>0</td>\n",
       "    </tr>\n",
       "    <tr>\n",
       "      <th>566</th>\n",
       "      <td>OR31C00</td>\n",
       "      <td>02/01/2020</td>\n",
       "      <td>00:00:00</td>\n",
       "      <td>-67105.02000</td>\n",
       "      <td>3</td>\n",
       "      <td>OR31C00_3</td>\n",
       "      <td>OR31C00</td>\n",
       "      <td>17.097176</td>\n",
       "      <td>31</td>\n",
       "      <td>0</td>\n",
       "    </tr>\n",
       "  </tbody>\n",
       "</table>\n",
       "</div>"
      ],
      "text/plain": [
       "    location        date      time      mod2smp timeind   date_loc    label  \\\n",
       "0    OR00C00  02/01/2020  00:00:00     20.57530       3  OR00C00_3  OR00C00   \n",
       "20   OR01C00  02/01/2020  00:00:00     20.57645       3  OR01C00_3  OR01C00   \n",
       "40   OR02C00  02/01/2020  00:00:00     20.56732       3  OR02C00_3  OR02C00   \n",
       "60   OR03C00  02/01/2020  00:00:00     20.56260       3  OR03C00_3  OR03C00   \n",
       "80   OR04C00  02/01/2020  00:00:00     20.55502       3  OR04C00_3  OR04C00   \n",
       "100  OR05C00  02/01/2020  00:00:00     20.54301       3  OR05C00_3  OR05C00   \n",
       "120  OR06C00  02/01/2020  00:00:00     20.51411       3  OR06C00_3  OR06C00   \n",
       "140  OR07C00  02/01/2020  00:00:00     20.48340       3  OR07C00_3  OR07C00   \n",
       "160  OR08C00  02/01/2020  00:00:00     20.47131       3  OR08C00_3  OR08C00   \n",
       "177  OR09C00  02/01/2020  00:00:00     20.41819       3  OR09C00_3  OR09C00   \n",
       "193  OR10C00  02/01/2020  00:00:00     20.31734       3  OR10C00_3  OR10C00   \n",
       "209  OR11C00  02/01/2020  00:00:00     20.26681       3  OR11C00_3  OR11C00   \n",
       "225  OR12C00  02/01/2020  00:00:00     20.14354       3  OR12C00_3  OR12C00   \n",
       "241  OR13C00  02/01/2020  00:00:00     20.04744       3  OR13C00_3  OR13C00   \n",
       "257  OR14C00  02/01/2020  00:00:00     19.88962       3  OR14C00_3  OR14C00   \n",
       "273  OR15C00  02/01/2020  00:00:00     19.83080       3  OR15C00_3  OR15C00   \n",
       "289  OR16C00  02/01/2020  00:00:00     19.51087       3  OR16C00_3  OR16C00   \n",
       "305  OR17C00  02/01/2020  00:00:00     19.44520       3  OR17C00_3  OR17C00   \n",
       "321  OR18C00  02/01/2020  00:00:00     19.18322       3  OR18C00_3  OR18C00   \n",
       "337  OR19C00  02/01/2020  00:00:00     19.00609       3  OR19C00_3  OR19C00   \n",
       "353  OR20C00  02/01/2020  00:00:00     18.64923       3  OR20C00_3  OR20C00   \n",
       "369  OR21C00  02/01/2020  00:00:00     18.44578       3  OR21C00_3  OR21C00   \n",
       "387  OR22C00  02/01/2020  00:00:00     18.34194       3  OR22C00_3  OR22C00   \n",
       "406  OR23C00  02/01/2020  00:00:00     18.07260       3  OR23C00_3  OR23C00   \n",
       "426  OR24C00  02/01/2020  00:00:00     17.88280       3  OR24C00_3  OR24C00   \n",
       "446  OR25C00  02/01/2020  00:00:00     17.69594       3  OR25C00_3  OR25C00   \n",
       "466  OR26C00  02/01/2020  00:00:00     17.57656       3  OR26C00_3  OR26C00   \n",
       "486  OR27C00  02/01/2020  00:00:00     17.38921       3  OR27C00_3  OR27C00   \n",
       "506  OR28C00  02/01/2020  00:00:00     17.30044       3  OR28C00_3  OR28C00   \n",
       "526  OR29C00  02/01/2020  00:00:00     17.21479       3  OR29C00_3  OR29C00   \n",
       "546  OR30C00  02/01/2020  00:00:00     17.13497       3  OR30C00_3  OR30C00   \n",
       "566  OR31C00  02/01/2020  00:00:00 -67105.02000       3  OR31C00_3  OR31C00   \n",
       "\n",
       "        hydmod  row  col  \n",
       "0    20.575298    0    0  \n",
       "20   20.576889    1    0  \n",
       "40   20.567322    2    0  \n",
       "60   20.562603    3    0  \n",
       "80   20.555019    4    0  \n",
       "100  20.554264    5    0  \n",
       "120  20.515774    6    0  \n",
       "140  20.483398    7    0  \n",
       "160  20.475674    8    0  \n",
       "177  20.419765    9    0  \n",
       "193  20.317341   10    0  \n",
       "209  20.266806   11    0  \n",
       "225  20.143534   12    0  \n",
       "241  20.047440   13    0  \n",
       "257  19.890276   14    0  \n",
       "273  19.832573   15    0  \n",
       "289  19.510866   16    0  \n",
       "305  19.445202   17    0  \n",
       "321  19.183218   18    0  \n",
       "337  19.006090   19    0  \n",
       "353  18.655003   20    0  \n",
       "369  18.445784   21    0  \n",
       "387  18.357561   22    0  \n",
       "406  18.093719   23    0  \n",
       "426  17.882799   24    0  \n",
       "446  17.695942   25    0  \n",
       "466  17.576567   26    0  \n",
       "486  17.389208   27    0  \n",
       "506  17.314356   28    0  \n",
       "526  17.220739   29    0  \n",
       "546  17.154524   30    0  \n",
       "566  17.097176   31    0  "
      ]
     },
     "execution_count": 24,
     "metadata": {},
     "output_type": "execute_result"
    }
   ],
   "source": [
    "results_end[results_end['col']==0]"
   ]
  },
  {
   "cell_type": "code",
   "execution_count": 25,
   "metadata": {
    "collapsed": false
   },
   "outputs": [
    {
     "data": {
      "text/plain": [
       "<matplotlib.colorbar.Colorbar at 0x10d485c18>"
      ]
     },
     "execution_count": 25,
     "metadata": {},
     "output_type": "execute_result"
    },
    {
     "data": {
      "image/png": "[encoded data removed]",
      "text/plain": [
       "<matplotlib.figure.Figure at 0x10cca4588>"
      ]
     },
     "metadata": {},
     "output_type": "display_data"
    }
   ],
   "source": [
    "# read in the heads\n",
    "heads = fu.binaryfile.HeadFile('freyberg_pcg.hds')\n",
    "inheads = heads.get_alldata()\n",
    "inheads[inheads<-10000] = np.nan\n",
    "plt.figure(figsize=(8,8))\n",
    "plt.imshow(inheads[2,0,:,:], interpolation='nearest')\n",
    "plt.colorbar()"
   ]
  },
  {
   "cell_type": "code",
   "execution_count": null,
   "metadata": {
    "collapsed": true
   },
   "outputs": [],
   "source": []
  }
 ],
 "metadata": {
  "kernelspec": {
   "display_name": "Python 3",
   "language": "python",
   "name": "python3"
  },
  "language_info": {
   "codemirror_mode": {
    "name": "ipython",
    "version": 3
   },
   "file_extension": ".py",
   "mimetype": "text/x-python",
   "name": "python",
   "nbconvert_exporter": "python",
   "pygments_lexer": "ipython3",
   "version": "3.5.1"
  }
 },
 "nbformat": 4,
 "nbformat_minor": 0
}
