{
 "cells": [
  {
   "cell_type": "code",
   "execution_count": 1,
   "metadata": {
    "collapsed": false
   },
   "outputs": [],
   "source": [
    "%matplotlib inline\n",
    "import os\n",
    "import numpy as np\n",
    "import matplotlib.pyplot as plt\n",
    "\n",
    "import flopy\n",
    "\n",
    "#Set the paths\n",
    "datapth = os.path.join('..', 'test-swr', 'swr013')"
   ]
  },
  {
   "cell_type": "code",
   "execution_count": 2,
   "metadata": {
    "collapsed": true
   },
   "outputs": [],
   "source": [
    "hobj = flopy.utils.HeadFile(os.path.join(datapth, 'condchk1D.hds'))\n",
    "times = hobj.get_times()"
   ]
  },
  {
   "cell_type": "code",
   "execution_count": 3,
   "metadata": {
    "collapsed": false
   },
   "outputs": [
    {
     "name": "stdout",
     "output_type": "stream",
     "text": [
      "('totim', 'reach', 'layer', 'bottom', 'stage', 'depth', 'head', 'wetper', 'cond', 'headdiff', 'exchange')\n",
      "(5, 0)\n"
     ]
    }
   ],
   "source": [
    "sobj = flopy.utils.SwrExchange(os.path.join(datapth, 'condchk1D.qaq'))\n",
    "print(sobj.get_record_names())\n",
    "print(sobj.get_nrecords())"
   ]
  },
  {
   "cell_type": "code",
   "execution_count": 4,
   "metadata": {
    "collapsed": true
   },
   "outputs": [],
   "source": [
    "top = np.array([10., 5., 0.])"
   ]
  },
  {
   "cell_type": "code",
   "execution_count": 5,
   "metadata": {
    "collapsed": true
   },
   "outputs": [],
   "source": [
    "def wp(z, rb, w, s, h):\n",
    "    if isinstance(s, float):\n",
    "        s = np.array([s])\n",
    "    elif isinstance(s, list):\n",
    "        s = np.array(s)\n",
    "    e = s.copy()\n",
    "    idx = s < h\n",
    "    e[idx] = h[idx]\n",
    "    idx = e > z\n",
    "    e[idx] = z\n",
    "    d = e - rb\n",
    "    return w + 2. * d"
   ]
  },
  {
   "cell_type": "code",
   "execution_count": 6,
   "metadata": {
    "collapsed": false
   },
   "outputs": [
    {
     "name": "stdout",
     "output_type": "stream",
     "text": [
      "('totim', 'reach', 'layer', 'bottom', 'stage', 'depth', 'head', 'wetper', 'cond', 'headdiff', 'exchange')\n",
      "float32\n"
     ]
    }
   ],
   "source": [
    "hts = hobj.get_ts(idx=[(0,0,1)])\n",
    "ts = sobj.get_ts(irec=1)\n",
    "print(ts.dtype.names)\n",
    "print(hts.dtype)"
   ]
  },
  {
   "cell_type": "code",
   "execution_count": 7,
   "metadata": {
    "collapsed": false
   },
   "outputs": [
    {
     "data": {
      "text/plain": [
       "(-1, 11)"
      ]
     },
     "execution_count": 7,
     "metadata": {},
     "output_type": "execute_result"
    },
    {
     "data": {
      "image/png": "[encoded data removed]",
      "text/plain": [
       "<matplotlib.figure.Figure at 0x10d39a128>"
      ]
     },
     "metadata": {},
     "output_type": "display_data"
    }
   ],
   "source": [
    "plt.plot(hts[:,0], hts[:,1])\n",
    "plt.plot(ts['totim'], ts['stage'])\n",
    "plt.plot([1,20], [0,0], color='0.5')\n",
    "plt.plot([1,20], [top[0],top[0]], color='0.5')\n",
    "plt.xlim(1, 20)\n",
    "plt.ylim(-1, 11)"
   ]
  },
  {
   "cell_type": "code",
   "execution_count": 8,
   "metadata": {
    "collapsed": false
   },
   "outputs": [
    {
     "data": {
      "text/plain": [
       "[<matplotlib.lines.Line2D at 0x10fda0b38>]"
      ]
     },
     "execution_count": 8,
     "metadata": {},
     "output_type": "execute_result"
    },
    {
     "data": {
      "image/png": "[encoded data removed]",
      "text/plain": [
       "<matplotlib.figure.Figure at 0x10d380d30>"
      ]
     },
     "metadata": {},
     "output_type": "display_data"
    }
   ],
   "source": [
    "plt.xlim(1, 20)\n",
    "plt.plot(ts['totim'], ts['wetper'])\n",
    "cw = wp(top[0], 0., 1., ts['stage'], hts[:,1])\n",
    "plt.plot(ts['totim'], cw, lw=0, marker='o')"
   ]
  },
  {
   "cell_type": "code",
   "execution_count": 9,
   "metadata": {
    "collapsed": true
   },
   "outputs": [],
   "source": [
    "hts = hobj.get_ts(idx=[(0,0,2)])\n",
    "ts = sobj.get_ts(irec=2)"
   ]
  },
  {
   "cell_type": "code",
   "execution_count": 10,
   "metadata": {
    "collapsed": false
   },
   "outputs": [
    {
     "data": {
      "text/plain": [
       "(-1, 11)"
      ]
     },
     "execution_count": 10,
     "metadata": {},
     "output_type": "execute_result"
    },
    {
     "data": {
      "image/png": "[encoded data removed]",
      "text/plain": [
       "<matplotlib.figure.Figure at 0x10f7abb38>"
      ]
     },
     "metadata": {},
     "output_type": "display_data"
    }
   ],
   "source": [
    "plt.plot(hts[:,0], hts[:,1])\n",
    "plt.plot(ts['totim'], ts['stage'])\n",
    "plt.plot([1,20], [0,0], color='0.5')\n",
    "plt.plot([1,20], [top[1],top[1]], color='0.5')\n",
    "plt.xlim(1, 20)\n",
    "plt.ylim(-1, 11)"
   ]
  },
  {
   "cell_type": "code",
   "execution_count": 11,
   "metadata": {
    "collapsed": false
   },
   "outputs": [
    {
     "data": {
      "text/plain": [
       "(8, 12)"
      ]
     },
     "execution_count": 11,
     "metadata": {},
     "output_type": "execute_result"
    },
    {
     "data": {
      "image/png": "[encoded data removed]",
      "text/plain": [
       "<matplotlib.figure.Figure at 0x10f7af630>"
      ]
     },
     "metadata": {},
     "output_type": "display_data"
    }
   ],
   "source": [
    "plt.xlim(1, 20)\n",
    "\n",
    "plt.plot(ts['totim'], ts['wetper'])\n",
    "cw = wp(top[1], 0., 1., ts['stage'], hts[:,1])\n",
    "plt.plot(ts['totim'], cw, lw=0, marker='o')\n",
    "plt.ylim(8, 12)"
   ]
  },
  {
   "cell_type": "code",
   "execution_count": 12,
   "metadata": {
    "collapsed": true
   },
   "outputs": [],
   "source": [
    "hts = hobj.get_ts(idx=[(0,0,3)])\n",
    "ts = sobj.get_ts(irec=3)"
   ]
  },
  {
   "cell_type": "code",
   "execution_count": 13,
   "metadata": {
    "collapsed": false
   },
   "outputs": [
    {
     "data": {
      "text/plain": [
       "(-1, 11)"
      ]
     },
     "execution_count": 13,
     "metadata": {},
     "output_type": "execute_result"
    },
    {
     "data": {
      "image/png": "[encoded data removed]",
      "text/plain": [
       "<matplotlib.figure.Figure at 0x10ffb5cf8>"
      ]
     },
     "metadata": {},
     "output_type": "display_data"
    }
   ],
   "source": [
    "plt.plot(hts[:,0], hts[:,1])\n",
    "plt.plot(ts['totim'], ts['stage'])\n",
    "plt.plot([1,20], [0,0], color='0.5')\n",
    "plt.plot([1,20], [top[2],top[2]], color='0.5')\n",
    "plt.xlim(1, 20)\n",
    "plt.ylim(-1, 11)"
   ]
  },
  {
   "cell_type": "code",
   "execution_count": 14,
   "metadata": {
    "collapsed": false
   },
   "outputs": [
    {
     "data": {
      "text/plain": [
       "[<matplotlib.lines.Line2D at 0x10ffbc9b0>]"
      ]
     },
     "execution_count": 14,
     "metadata": {},
     "output_type": "execute_result"
    },
    {
     "data": {
      "image/png": "[encoded data removed]",
      "text/plain": [
       "<matplotlib.figure.Figure at 0x10ffc01d0>"
      ]
     },
     "metadata": {},
     "output_type": "display_data"
    }
   ],
   "source": [
    "plt.xlim(1, 20)\n",
    "\n",
    "plt.plot(ts['totim'], ts['wetper'])\n",
    "cw = wp(top[2], 0., 1., ts['stage'], hts[:,1])\n",
    "plt.plot(ts['totim'], cw, lw=0, marker='o')"
   ]
  },
  {
   "cell_type": "code",
   "execution_count": null,
   "metadata": {
    "collapsed": true
   },
   "outputs": [],
   "source": []
  }
 ],
 "metadata": {
  "kernelspec": {
   "display_name": "Python 3",
   "language": "python",
   "name": "python3"
  },
  "language_info": {
   "codemirror_mode": {
    "name": "ipython",
    "version": 3
   },
   "file_extension": ".py",
   "mimetype": "text/x-python",
   "name": "python",
   "nbconvert_exporter": "python",
   "pygments_lexer": "ipython3",
   "version": "3.5.0"
  }
 },
 "nbformat": 4,
 "nbformat_minor": 0
}
