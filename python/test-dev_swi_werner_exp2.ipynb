{
 "cells": [
  {
   "cell_type": "markdown",
   "metadata": {},
   "source": [
    "# Create SWI2 model of Experiment 2 from Werner et al. 2009\n",
    "\n",
    "The paper can be found here:\n",
    "http://www.sciencedirect.com/science/article/pii/S0022169409002807"
   ]
  },
  {
   "cell_type": "code",
   "execution_count": 1,
   "metadata": {
    "collapsed": false
   },
   "outputs": [],
   "source": [
    "%matplotlib inline\n",
    "import os\n",
    "import platform\n",
    "import numpy as np\n",
    "import matplotlib.pyplot as plt\n",
    "\n",
    "import flopy"
   ]
  },
  {
   "cell_type": "code",
   "execution_count": 2,
   "metadata": {
    "collapsed": true
   },
   "outputs": [],
   "source": [
    "#Set name of MODFLOW exe\n",
    "#  assumes executable is in users path statement\n",
    "exepth = os.path.join('..', 'autotest', 'temp')\n",
    "exe_name = 'mf2005_1.12.00'\n",
    "mfexe = os.path.abspath(os.path.join(exepth, exe_name))\n",
    "#mfexe = 'mf2005'\n",
    "\n",
    "modelpth = os.path.join('..', 'test-dev', 'werner2')\n",
    "modelname = 'werner2'\n",
    "#make sure modelpth directory exists\n",
    "if not os.path.exists(modelpth):\n",
    "    os.makedirs(modelpth)"
   ]
  },
  {
   "cell_type": "markdown",
   "metadata": {},
   "source": [
    "#### Set up elevations of key variables\n",
    "\n",
    "1. z0sw is the initial height of saltwater above the base of the model\n",
    "2. zw is the height of the well above the initial height of saltwater\n",
    "3. h0 is the initial water table height above the initial height of saltwater"
   ]
  },
  {
   "cell_type": "code",
   "execution_count": 3,
   "metadata": {
    "collapsed": true
   },
   "outputs": [],
   "source": [
    "z0sw = 0.15\n",
    "zw = z0sw + 0.4\n",
    "h0 = z0sw + 0.95\n",
    "xlen, zlen = 1.075 / 2., h0\n",
    "\n",
    "aqb = h0\n",
    "wb0 = zw - z0sw\n",
    "fwb = h0 - z0sw\n",
    "swb = z0sw"
   ]
  },
  {
   "cell_type": "markdown",
   "metadata": {},
   "source": [
    "#### Create Vertical discretization"
   ]
  },
  {
   "cell_type": "code",
   "execution_count": 4,
   "metadata": {
    "collapsed": true
   },
   "outputs": [],
   "source": [
    "nv = 6 # 6 works the best\n",
    "nv2 = 1 # 1 works the best\n",
    "if nv > 1:\n",
    "    s0 = np.linspace(zlen, zw, num=nv)\n",
    "else:\n",
    "    s0 = np.array([h0, zw])\n",
    "dz0 = (s0[-1] - z0sw) / float(nv2)\n",
    "s1 = np.linspace(zw-dz0, z0sw, num=nv2)\n",
    "botm = np.append(s0, s1)\n",
    "botm = np.append(botm, 0.)"
   ]
  },
  {
   "cell_type": "markdown",
   "metadata": {},
   "source": [
    "#### Specify the number of layers, rows, and columns"
   ]
  },
  {
   "cell_type": "code",
   "execution_count": 5,
   "metadata": {
    "collapsed": false
   },
   "outputs": [
    {
     "name": "stdout",
     "output_type": "stream",
     "text": [
      "nlay: 7, nrow1, ncol: 1000\n"
     ]
    }
   ],
   "source": [
    "nlay, nrow, ncol = botm.shape[0]-1, 1, 1000\n",
    "print('nlay: {}, nrow{}, ncol: {}'.format(nlay, nrow, ncol))"
   ]
  },
  {
   "cell_type": "markdown",
   "metadata": {},
   "source": [
    "#### Specify the timestep information and conversion factor for "
   ]
  },
  {
   "cell_type": "code",
   "execution_count": 6,
   "metadata": {
    "collapsed": true
   },
   "outputs": [],
   "source": [
    "min2day = 60. * 24.\n",
    "perlen, nstp, tsmult = 350. / min2day , 200, 1.0"
   ]
  },
  {
   "cell_type": "markdown",
   "metadata": {},
   "source": [
    "#### Calculate the length along rows (dx) and columns (delc)."
   ]
  },
  {
   "cell_type": "code",
   "execution_count": 7,
   "metadata": {
    "collapsed": true
   },
   "outputs": [],
   "source": [
    "dx = xlen / float(ncol)\n",
    "delc = 0.053"
   ]
  },
  {
   "cell_type": "markdown",
   "metadata": {},
   "source": [
    "#### Specify model parameters\n",
    "\n",
    "Set ibound with constant stage on edges and hydraulic properties"
   ]
  },
  {
   "cell_type": "code",
   "execution_count": 8,
   "metadata": {
    "collapsed": true
   },
   "outputs": [],
   "source": [
    "ibound = np.ones((nlay, nrow, ncol), dtype=np.int)\n",
    "ibound[:, :, 0] = -1\n",
    "\n",
    "hk = 140. # m/d / 86400. # m/s\n",
    "ss = 1.e-5\n",
    "porosity = 0.38"
   ]
  },
  {
   "cell_type": "markdown",
   "metadata": {},
   "source": [
    "#### Find the position of the well"
   ]
  },
  {
   "cell_type": "code",
   "execution_count": 9,
   "metadata": {
    "collapsed": false
   },
   "outputs": [
    {
     "name": "stdout",
     "output_type": "stream",
     "text": [
      "The well is located in layer 4\n"
     ]
    }
   ],
   "source": [
    "Q = -(3.8e-6 / 2.) * 86400. # m3/s\n",
    "# find position of well\n",
    "iposw = 0\n",
    "for k in range(nlay):\n",
    "    if zw < botm[k+1]:\n",
    "        iposw = k\n",
    "print('The well is located in layer {}'.format(iposw+1))"
   ]
  },
  {
   "cell_type": "markdown",
   "metadata": {},
   "source": [
    "#### Create well data"
   ]
  },
  {
   "cell_type": "code",
   "execution_count": 10,
   "metadata": {
    "collapsed": false
   },
   "outputs": [],
   "source": [
    "# boundary condition data\n",
    "# well data\n",
    "nwells = 1\n",
    "lrcq = np.zeros((nwells, 4))\n",
    "lrcq[0, 0] = iposw    \n",
    "lrcq[0, 1] = 0\n",
    "lrcq[0, 2] = ncol - 1\n",
    "lrcq[0, 3] = Q\n",
    "# create well dictionary\n",
    "well_data = {0:lrcq}\n"
   ]
  },
  {
   "cell_type": "markdown",
   "metadata": {},
   "source": [
    "#### Create SWI data"
   ]
  },
  {
   "cell_type": "code",
   "execution_count": 11,
   "metadata": {
    "collapsed": false
   },
   "outputs": [
    {
     "name": "stdout",
     "output_type": "stream",
     "text": [
      "[[3, 0, 999], [4, 0, 999], [5, 0, 999], [6, 0, 999]]\n"
     ]
    }
   ],
   "source": [
    "# swi2 data\n",
    "reldrho = 0.025\n",
    "nu = [0., reldrho]\n",
    "numult = 5.\n",
    "toeslope = nu[1] / numult  #0.005\n",
    "tipslope = nu[1] / numult  #0.005\n",
    "z = [z0sw]\n",
    "iso = np.zeros((nlay, nrow, ncol), dtype=np.int)\n",
    "iso[:, 0, 0] = -1\n",
    "iso[-1, 0, 0] = 2\n",
    "# swi2 observations\n",
    "obsnam = []\n",
    "obslrc = []\n",
    "for k in range(iposw, nlay):\n",
    "    obsnam.append('layer{}_'.format(k+1))\n",
    "    obslrc.append([k, 0, ncol-1])\n",
    "nobs = len(obsnam)\n",
    "iswiobs = 1051\n",
    "print(obslrc)\n"
   ]
  },
  {
   "cell_type": "markdown",
   "metadata": {
    "collapsed": false
   },
   "source": [
    "#### Create the model objects"
   ]
  },
  {
   "cell_type": "code",
   "execution_count": 12,
   "metadata": {
    "collapsed": false
   },
   "outputs": [
    {
     "name": "stdout",
     "output_type": "stream",
     "text": [
      "2 12 (4, 3)\n"
     ]
    },
    {
     "name": "stderr",
     "output_type": "stream",
     "text": [
      "/Users/jdhughes/Documents/Development/flopy_git/flopy/modflow/mfdis.py:164: UserWarning: ModflowDis.sr is deprecated. use Modflow.sr\n",
      "  warnings.warn(\"ModflowDis.sr is deprecated. use Modflow.sr\")\n"
     ]
    }
   ],
   "source": [
    "ml = flopy.modflow.Modflow(modelname, version='mf2005', exe_name=mfexe, model_ws=modelpth)\n",
    "\n",
    "discret = flopy.modflow.ModflowDis(ml, nlay=nlay, nrow=nrow, ncol=ncol, laycbd=0,\n",
    "                        delr=dx, delc=delc, top=botm[0], botm=botm[1:],\n",
    "                        nper=1, perlen=perlen, nstp=nstp, tsmult=tsmult, steady=False,\n",
    "                                  itmuni=4, lenuni=2)\n",
    "bas = flopy.modflow.ModflowBas(ml, ibound=ibound, strt=h0)\n",
    "lpf = flopy.modflow.ModflowLpf(ml, laytyp=1, hk=hk, vka=hk, sy=porosity, ss=ss)\n",
    "wel = flopy.modflow.ModflowWel(ml, stress_period_data=well_data)\n",
    "swi = flopy.modflow.ModflowSwi2(ml, nsrf=1, istrat=1, toeslope=toeslope, tipslope=tipslope, nu=nu,\n",
    "                     zeta=z, ssz=porosity, isource=iso, nsolver=1,\n",
    "                     nobs=nobs, iswiobs=iswiobs, obsnam=obsnam, obslrc=obslrc)\n",
    "oc = flopy.modflow.ModflowOc(ml, stress_period_data={(0,0):['print budget', 'save head']})\n",
    "de4 = flopy.modflow.ModflowDe4(ml)"
   ]
  },
  {
   "cell_type": "markdown",
   "metadata": {},
   "source": [
    "#### Write the model files and run the model"
   ]
  },
  {
   "cell_type": "code",
   "execution_count": 13,
   "metadata": {
    "collapsed": false
   },
   "outputs": [
    {
     "data": {
      "text/plain": [
       "(True, [])"
      ]
     },
     "execution_count": 13,
     "metadata": {},
     "output_type": "execute_result"
    }
   ],
   "source": [
    "ml.write_input()\n",
    "ml.run_model(silent=True)"
   ]
  },
  {
   "cell_type": "markdown",
   "metadata": {},
   "source": [
    "#### Load the model results\n",
    "\n",
    "\n",
    "Load the simulation 1 `ZETA` data and `ZETA` observations."
   ]
  },
  {
   "cell_type": "code",
   "execution_count": 14,
   "metadata": {
    "collapsed": false
   },
   "outputs": [
    {
     "name": "stdout",
     "output_type": "stream",
     "text": [
      "(200, 7, 1, 1000)\n",
      "[('TOTIM', '<f8'), ('layer4_001', '<f8'), ('layer5_001', '<f8'), ('layer6_001', '<f8'), ('layer7_001', '<f8')]\n"
     ]
    }
   ],
   "source": [
    "# read base model zeta\n",
    "zfile = flopy.utils.CellBudgetFile(os.path.join(ml.model_ws, modelname+'.zta'))\n",
    "kstpkper = zfile.get_kstpkper()\n",
    "hfile = flopy.utils.HeadFile(os.path.join(ml.model_ws, modelname+'.hds'))\n",
    "totim = hfile.get_times()\n",
    "t = np.array(totim) * 86400.\n",
    "zeta = []\n",
    "for kk in kstpkper:\n",
    "    zeta.append(zfile.get_data(kstpkper=kk, text='ZETASRF  1')[0])\n",
    "zeta = np.array(zeta)\n",
    "print(zeta.shape)\n",
    "# read swi obs\n",
    "zobs = np.genfromtxt(os.path.join(ml.model_ws, modelname+'.zobs'), names=True)\n",
    "print(zobs.dtype)"
   ]
  },
  {
   "cell_type": "markdown",
   "metadata": {
    "collapsed": false
   },
   "source": [
    "#### Create a time series of observed zeta surface"
   ]
  },
  {
   "cell_type": "code",
   "execution_count": 15,
   "metadata": {
    "collapsed": false
   },
   "outputs": [],
   "source": [
    "zc = np.zeros((zobs['TOTIM'].shape[0]), dtype=np.float)\n",
    "for idx, tt in enumerate(zobs['TOTIM']):\n",
    "    for k in range(iposw, nlay):\n",
    "        key = 'layer{}_001'.format(k+1)\n",
    "        zt = zobs[key][idx]\n",
    "        if zt < botm[k] and zt > botm[k+1]:\n",
    "            zc[idx] = zt\n",
    "            break"
   ]
  },
  {
   "cell_type": "markdown",
   "metadata": {},
   "source": [
    "#### Function to calculate non-dimensional time"
   ]
  },
  {
   "cell_type": "code",
   "execution_count": 17,
   "metadata": {
    "collapsed": false
   },
   "outputs": [],
   "source": [
    "def calcTp(nu, Kh, Kv, n, d):\n",
    "    uf = 1.002e-3\n",
    "    us = 1.080e-3\n",
    "    rhof = 1000.\n",
    "    rhos = (1. + nu) * rhof\n",
    "    drho = rhos - rhof\n",
    "    g = 9.80665\n",
    "    dgamma = g * drho    \n",
    "    kh = (Kh / 86400.) * uf / (rhof * g)\n",
    "    kv = (Kv / 86400.) * uf / (rhof * g) \n",
    "    betaf = n * uf / (np.sqrt(kh*kv) * dgamma)\n",
    "    betas = n * us / (np.sqrt(kh*kv) * dgamma)\n",
    "    return t / ((betaf + betas) * d)"
   ]
  },
  {
   "cell_type": "markdown",
   "metadata": {},
   "source": [
    "#### Function to calculate non-dimensional interface elevation"
   ]
  },
  {
   "cell_type": "code",
   "execution_count": 18,
   "metadata": {
    "collapsed": false
   },
   "outputs": [],
   "source": [
    "def calcZ(a, d, x, Tp):\n",
    "    X = x / a\n",
    "    D = d / a\n",
    "    Z = (1. / (2. * np.pi)) * np.log(((X / D)**2 + (Tp + 1)**2) / ((X / D)**2 + 1))\n",
    "    return Z"
   ]
  },
  {
   "cell_type": "markdown",
   "metadata": {},
   "source": [
    "#### Function to calculate interface elevation from non-dimensional interface elevation"
   ]
  },
  {
   "cell_type": "code",
   "execution_count": 19,
   "metadata": {
    "collapsed": true
   },
   "outputs": [],
   "source": [
    "def Z2zeta(nu, Kh, Kv, Q, w, Z, b=0.):\n",
    "    Q /= -w * 86400.\n",
    "    uf = 1.002e-3\n",
    "    us = 1.080e-3\n",
    "    rhof = 1000.\n",
    "    rhos = (1. + nu) * rhof\n",
    "    drho = rhos - rhof\n",
    "    g = 9.80665\n",
    "    dgamma = g * drho    \n",
    "    kh = (Kh / 86400.) * uf / (rhof * g)\n",
    "    kv = (Kv / 86400.) * uf / (rhof * g)  \n",
    "    zeta = Q * Z * uf / (np.sqrt(kh*kv) * dgamma) \n",
    "    return zeta + b    "
   ]
  },
  {
   "cell_type": "markdown",
   "metadata": {},
   "source": [
    "#### Function to calculate interface elevation\n",
    "\n",
    "From Dagan and Bear (1968)"
   ]
  },
  {
   "cell_type": "code",
   "execution_count": 20,
   "metadata": {
    "collapsed": false
   },
   "outputs": [],
   "source": [
    "def eq49(nu, Kh, Kv, n, Q, w, t, d, x, b=0.):\n",
    "    Q /= -w * 86400.\n",
    "    uf = 1.002e-3\n",
    "    us = 1.080e-3\n",
    "    rhof = 1000.\n",
    "    rhos = (1. + nu) * rhof\n",
    "    drho = rhos - rhof\n",
    "    g = 9.80665\n",
    "    dgamma = g * drho    \n",
    "    nufus = n * (uf + us)\n",
    "    kh = (Kh / 86400.) * uf / (rhof * g)\n",
    "    kv = (Kv / 86400.) * uf / (rhof * g)\n",
    "    zeta = (uf * Q / (2. * np.pi * dgamma * np.sqrt(kh * kv))) * \\\n",
    "        np.log(((kv/kh)**2. * x**2. + (kv * dgamma * t / nufus + d)**2.) / ((kv/kh)**2. * x**2. + d**2.))\n",
    "    return zeta + b"
   ]
  },
  {
   "cell_type": "markdown",
   "metadata": {},
   "source": [
    "#### Calculate analytical interface elevation\n",
    "\n",
    "Compare analytical interface elevation and simulated interface at the well position."
   ]
  },
  {
   "cell_type": "code",
   "execution_count": 21,
   "metadata": {
    "collapsed": false
   },
   "outputs": [
    {
     "data": {
      "text/plain": [
       "<matplotlib.legend.Legend at 0x108fd6518>"
      ]
     },
     "execution_count": 21,
     "metadata": {},
     "output_type": "execute_result"
    },
    {
     "data": {
      "image/png": "[encoded data removed]",
      "text/plain": [
       "<matplotlib.figure.Figure at 0x108edd0f0>"
      ]
     },
     "metadata": {},
     "output_type": "display_data"
    }
   ],
   "source": [
    "zval = eq49(reldrho, hk, hk, porosity, Q, delc, t, wb0, 0, b=z0sw)\n",
    "plt.plot(t/60., zval, label='eq49')\n",
    "plt.plot(t/60., zc, marker='o', lw=0, ms=4, mfc='none', mec='black')\n",
    "plt.legend(loc='lower right')"
   ]
  },
  {
   "cell_type": "markdown",
   "metadata": {},
   "source": [
    "#### Define figure dimensions and colors used for plotting `ZETA` surfaces"
   ]
  },
  {
   "cell_type": "code",
   "execution_count": 22,
   "metadata": {
    "collapsed": false
   },
   "outputs": [],
   "source": [
    "# figure dimensions\n",
    "fwid, fhgt = 8., 5.5\n",
    "flft, frgt, fbot, ftop = 0.125, 0.95, 0.125, 0.925\n",
    "\n",
    "# line color definition\n",
    "icolor = 15\n",
    "colormap = plt.cm.jet  #winter\n",
    "cc = []\n",
    "cr = np.linspace(0.9, 0.0, icolor)\n",
    "for idx in cr:\n",
    "    cc.append(colormap(idx))"
   ]
  },
  {
   "cell_type": "markdown",
   "metadata": {},
   "source": [
    "#### Plot simulated and analytical interface elevations"
   ]
  },
  {
   "cell_type": "code",
   "execution_count": 23,
   "metadata": {
    "collapsed": false
   },
   "outputs": [
    {
     "data": {
      "image/png": "[encoded data removed]",
      "text/plain": [
       "<matplotlib.figure.Figure at 0x10989e1d0>"
      ]
     },
     "metadata": {},
     "output_type": "display_data"
    }
   ],
   "source": [
    "plt.rcParams.update({'legend.fontsize': 6, 'legend.frameon' : False})\n",
    "fig = plt.figure(figsize=(fwid, fhgt), facecolor='w')\n",
    "fig.subplots_adjust(wspace=0.25, hspace=0.25, left=flft, right=frgt, bottom=fbot, top=ftop)\n",
    "# first plot\n",
    "ax = fig.add_subplot(1, 1, 1)\n",
    "# axes limits\n",
    "ax.set_xlim(0., xlen)\n",
    "ax.set_ylim(0.15, 0.75)\n",
    "itim = 1\n",
    "for idx in range(icolor):\n",
    "    if idx+1 == icolor:\n",
    "        itim = -1\n",
    "    Tp = calcTp(reldrho, hk, hk, porosity, zw-z0sw)\n",
    "    for k in range(nlay):\n",
    "        #zv = zeta[itim, k, 0, :]\n",
    "        ax.plot(ml.sr.xcenter, zeta[itim, k, 0, :], drawstyle='steps-mid', \n",
    "                linewidth=0.75, color=cc[idx], label='{:5.2g} min'.format(totim[itim]*min2day))\n",
    "    Z = calcZ(h0-z0sw, zw-z0sw, ml.sr.xcenter, Tp[itim])\n",
    "    ztt = Z2zeta(reldrho, hk, hk, Q, delc, Z, b=z0sw)\n",
    "    #print(ztt)\n",
    "    ax.plot(ml.sr.xcenter, ztt[::-1], marker='o', lw=0, mfc='none', mec=cc[idx], markevery=20, ms=3)\n",
    "    itim += 10\n",
    "for k in range(nlay):\n",
    "    ax.plot([0, xlen], [botm[k+1], botm[k+1]], lw=1, color='0.5', zorder=10)"
   ]
  },
  {
   "cell_type": "code",
   "execution_count": null,
   "metadata": {
    "collapsed": true
   },
   "outputs": [],
   "source": []
  }
 ],
 "metadata": {
  "kernelspec": {
   "display_name": "Python 3",
   "language": "python",
   "name": "python3"
  },
  "language_info": {
   "codemirror_mode": {
    "name": "ipython",
    "version": 3
   },
   "file_extension": ".py",
   "mimetype": "text/x-python",
   "name": "python",
   "nbconvert_exporter": "python",
   "pygments_lexer": "ipython3",
   "version": "3.5.1"
  }
 },
 "nbformat": 4,
 "nbformat_minor": 0
}
